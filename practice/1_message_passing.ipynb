{
 "cells": [
  {
   "cell_type": "code",
   "metadata": {
    "id": "UAKi9Stc6eME",
    "ExecuteTime": {
     "end_time": "2025-04-23T05:19:22.773475Z",
     "start_time": "2025-04-23T05:19:21.955835Z"
    }
   },
   "source": [
    "import numpy as np\n",
    "from scipy.linalg import sqrtm\n",
    "from scipy.special import softmax\n",
    "import networkx as nx\n",
    "from networkx.algorithms.community.modularity_max import greedy_modularity_communities\n",
    "import matplotlib.pyplot as plt\n",
    "from matplotlib import animation\n",
    "%matplotlib inline\n",
    "from IPython.display import HTML"
   ],
   "outputs": [],
   "execution_count": 1
  },
  {
   "cell_type": "markdown",
   "metadata": {
    "id": "D9JkL3sf6eMF"
   },
   "source": [
    "# Message Passing as Matrix Multiplication"
   ]
  },
  {
   "cell_type": "code",
   "metadata": {
    "id": "yQ7TvDsQ6eMG",
    "outputId": "e022cbd7-9cd0-49cc-d0ed-e3bd8b653b58",
    "colab": {
     "base_uri": "https://localhost:8080/",
     "height": 0
    },
    "ExecuteTime": {
     "end_time": "2025-04-23T05:19:22.795833Z",
     "start_time": "2025-04-23T05:19:22.790702Z"
    }
   },
   "source": [
    "A = np.array(\n",
    "    [[0, 1, 0, 0, 0], [1, 0, 1, 0, 0], [0, 1, 0, 1, 1], [0, 0, 1, 0, 0], [0, 0, 1, 0, 0]]\n",
    ")\n",
    "A"
   ],
   "outputs": [
    {
     "data": {
      "text/plain": [
       "array([[0, 1, 0, 0, 0],\n",
       "       [1, 0, 1, 0, 0],\n",
       "       [0, 1, 0, 1, 1],\n",
       "       [0, 0, 1, 0, 0],\n",
       "       [0, 0, 1, 0, 0]])"
      ]
     },
     "execution_count": 2,
     "metadata": {},
     "output_type": "execute_result"
    }
   ],
   "execution_count": 2
  },
  {
   "cell_type": "code",
   "metadata": {
    "id": "_ASrE3Br6eMG",
    "outputId": "b342c0ad-12c2-43bd-a77a-f054cc53d362",
    "ExecuteTime": {
     "end_time": "2025-04-23T05:19:23.238505Z",
     "start_time": "2025-04-23T05:19:23.234Z"
    }
   },
   "source": [
    "feats = np.arange(A.shape[0]).reshape((-1,1))+1\n",
    "feats"
   ],
   "outputs": [
    {
     "data": {
      "text/plain": [
       "array([[1],\n",
       "       [2],\n",
       "       [3],\n",
       "       [4],\n",
       "       [5]])"
      ]
     },
     "execution_count": 3,
     "metadata": {},
     "output_type": "execute_result"
    }
   ],
   "execution_count": 3
  },
  {
   "cell_type": "code",
   "metadata": {
    "id": "bjzZ8K866eMH",
    "outputId": "7877409b-a011-46ef-da3c-913fa3e8b05c",
    "ExecuteTime": {
     "end_time": "2025-04-23T05:19:23.313018Z",
     "start_time": "2025-04-23T05:19:23.309017Z"
    }
   },
   "source": [
    "H = A @ feats\n",
    "H"
   ],
   "outputs": [
    {
     "data": {
      "text/plain": [
       "array([[ 2],\n",
       "       [ 4],\n",
       "       [11],\n",
       "       [ 3],\n",
       "       [ 3]])"
      ]
     },
     "execution_count": 4,
     "metadata": {},
     "output_type": "execute_result"
    }
   ],
   "execution_count": 4
  },
  {
   "cell_type": "markdown",
   "metadata": {
    "id": "NkMl7X9W6eMH"
   },
   "source": [
    "## Scale neighborhood sum by neighborhood size (i.e. average values)"
   ]
  },
  {
   "cell_type": "code",
   "metadata": {
    "id": "yos45EGE6eMH",
    "outputId": "e6a24bf5-8dbc-4783-93ad-7be0da2e98dc",
    "ExecuteTime": {
     "end_time": "2025-04-23T05:19:23.518319Z",
     "start_time": "2025-04-23T05:19:23.513950Z"
    }
   },
   "source": [
    "D = np.zeros(A.shape)\n",
    "np.fill_diagonal(D, A.sum(axis=0))\n",
    "D"
   ],
   "outputs": [
    {
     "data": {
      "text/plain": [
       "array([[1., 0., 0., 0., 0.],\n",
       "       [0., 2., 0., 0., 0.],\n",
       "       [0., 0., 3., 0., 0.],\n",
       "       [0., 0., 0., 1., 0.],\n",
       "       [0., 0., 0., 0., 1.]])"
      ]
     },
     "execution_count": 5,
     "metadata": {},
     "output_type": "execute_result"
    }
   ],
   "execution_count": 5
  },
  {
   "cell_type": "code",
   "metadata": {
    "id": "5X3gQEYW6eMH",
    "outputId": "283f67e5-bb3d-45ef-ebd5-81c7c6e8029a",
    "ExecuteTime": {
     "end_time": "2025-04-23T05:19:23.635379Z",
     "start_time": "2025-04-23T05:19:23.632112Z"
    }
   },
   "source": [
    "D_inv = np.linalg.inv(D)\n",
    "D_inv"
   ],
   "outputs": [
    {
     "data": {
      "text/plain": [
       "array([[1.        , 0.        , 0.        , 0.        , 0.        ],\n",
       "       [0.        , 0.5       , 0.        , 0.        , 0.        ],\n",
       "       [0.        , 0.        , 0.33333333, 0.        , 0.        ],\n",
       "       [0.        , 0.        , 0.        , 1.        , 0.        ],\n",
       "       [0.        , 0.        , 0.        , 0.        , 1.        ]])"
      ]
     },
     "execution_count": 6,
     "metadata": {},
     "output_type": "execute_result"
    }
   ],
   "execution_count": 6
  },
  {
   "cell_type": "code",
   "metadata": {
    "id": "wfXNcWxI6eMH",
    "outputId": "4bedad8c-c248-41cf-e1da-4d5026ce917d",
    "ExecuteTime": {
     "end_time": "2025-04-23T05:19:23.819914Z",
     "start_time": "2025-04-23T05:19:23.816706Z"
    }
   },
   "source": [
    "D_inv @ A"
   ],
   "outputs": [
    {
     "data": {
      "text/plain": [
       "array([[0.        , 1.        , 0.        , 0.        , 0.        ],\n",
       "       [0.5       , 0.        , 0.5       , 0.        , 0.        ],\n",
       "       [0.        , 0.33333333, 0.        , 0.33333333, 0.33333333],\n",
       "       [0.        , 0.        , 1.        , 0.        , 0.        ],\n",
       "       [0.        , 0.        , 1.        , 0.        , 0.        ]])"
      ]
     },
     "execution_count": 7,
     "metadata": {},
     "output_type": "execute_result"
    }
   ],
   "execution_count": 7
  },
  {
   "cell_type": "code",
   "metadata": {
    "id": "lephnlSy6eMH",
    "outputId": "82cffbc4-e518-479b-d9e9-5d1c7ffd12ae",
    "ExecuteTime": {
     "end_time": "2025-04-23T05:19:23.959196Z",
     "start_time": "2025-04-23T05:19:23.956232Z"
    }
   },
   "source": [
    "H_avg = D_inv @ A @ feats\n",
    "H_avg"
   ],
   "outputs": [
    {
     "data": {
      "text/plain": [
       "array([[2.        ],\n",
       "       [2.        ],\n",
       "       [3.66666667],\n",
       "       [3.        ],\n",
       "       [3.        ]])"
      ]
     },
     "execution_count": 8,
     "metadata": {},
     "output_type": "execute_result"
    }
   ],
   "execution_count": 8
  },
  {
   "cell_type": "markdown",
   "metadata": {
    "id": "3rJjRC2j6eMI"
   },
   "source": [
    "## Normalized Adjacency Matrix\n",
    "Ultimately want to define and build:\n",
    "\n",
    "$$ \\hat{A} = \\tilde{D}^{-\\frac{1}{2}} \\tilde{A} \\tilde{D}^{-\\frac{1}{2}} $$\n"
   ]
  },
  {
   "cell_type": "markdown",
   "metadata": {
    "id": "om5p32w56eMI"
   },
   "source": [
    "First, create $\\tilde{A}$:\n",
    "$$ \\tilde{A} = A + I $$"
   ]
  },
  {
   "cell_type": "code",
   "metadata": {
    "id": "z7Co8gch6eMI",
    "ExecuteTime": {
     "end_time": "2025-04-23T05:19:24.112752Z",
     "start_time": "2025-04-23T05:19:24.109753Z"
    }
   },
   "source": [
    "g = nx.from_numpy_array(A)\n",
    "A_mod = A + np.eye(g.number_of_nodes())"
   ],
   "outputs": [],
   "execution_count": 9
  },
  {
   "cell_type": "markdown",
   "metadata": {
    "id": "5icrYZwi6eMI"
   },
   "source": [
    "Then create $ \\tilde{D}^{-\\frac{1}{2}} $, where $D$ is the diagonal degree matrix:\n",
    "\n",
    "$$ (D)_{ij} = \\delta_{i,j} \\sum_k A_{i,k} $$"
   ]
  },
  {
   "cell_type": "code",
   "metadata": {
    "id": "svUcBGOo6eMI",
    "ExecuteTime": {
     "end_time": "2025-04-23T05:19:24.226633Z",
     "start_time": "2025-04-23T05:19:24.222627Z"
    }
   },
   "source": [
    "# D for A_mod:\n",
    "D_mod = np.zeros_like(A_mod)\n",
    "np.fill_diagonal(D_mod, A_mod.sum(axis=1).flatten())\n",
    "\n",
    "# Inverse square root of D:\n",
    "D_mod_invroot = np.linalg.inv(sqrtm(D_mod))"
   ],
   "outputs": [],
   "execution_count": 10
  },
  {
   "cell_type": "code",
   "metadata": {
    "id": "XMZOQLDF6eMI",
    "outputId": "a4eeba07-530c-495b-99d6-308bde079840",
    "ExecuteTime": {
     "end_time": "2025-04-23T05:19:24.323787Z",
     "start_time": "2025-04-23T05:19:24.320310Z"
    }
   },
   "source": [
    "D_mod"
   ],
   "outputs": [
    {
     "data": {
      "text/plain": [
       "array([[2., 0., 0., 0., 0.],\n",
       "       [0., 3., 0., 0., 0.],\n",
       "       [0., 0., 4., 0., 0.],\n",
       "       [0., 0., 0., 2., 0.],\n",
       "       [0., 0., 0., 0., 2.]])"
      ]
     },
     "execution_count": 11,
     "metadata": {},
     "output_type": "execute_result"
    }
   ],
   "execution_count": 11
  },
  {
   "cell_type": "code",
   "metadata": {
    "id": "aGUBdIPk6eMI",
    "outputId": "3633ba90-762f-400e-9bd3-acc3b346e94a",
    "ExecuteTime": {
     "end_time": "2025-04-23T05:19:24.391625Z",
     "start_time": "2025-04-23T05:19:24.388542Z"
    }
   },
   "source": [
    "D_mod_invroot"
   ],
   "outputs": [
    {
     "data": {
      "text/plain": [
       "array([[0.70710678, 0.        , 0.        , 0.        , 0.        ],\n",
       "       [0.        , 0.57735027, 0.        , 0.        , 0.        ],\n",
       "       [0.        , 0.        , 0.5       , 0.        , 0.        ],\n",
       "       [0.        , 0.        , 0.        , 0.70710678, 0.        ],\n",
       "       [0.        , 0.        , 0.        , 0.        , 0.70710678]])"
      ]
     },
     "execution_count": 12,
     "metadata": {},
     "output_type": "execute_result"
    }
   ],
   "execution_count": 12
  },
  {
   "cell_type": "markdown",
   "metadata": {
    "id": "k5yu8jJ16eMI"
   },
   "source": [
    "I.e.: $\\frac{1}{\\sqrt{2}}$, $\\frac{1}{\\sqrt{3}}$, $\\frac{1}{\\sqrt{4}}$, ...etc"
   ]
  },
  {
   "cell_type": "code",
   "metadata": {
    "id": "6-JGNNJ66eMI",
    "ExecuteTime": {
     "end_time": "2025-04-23T05:19:24.478361Z",
     "start_time": "2025-04-23T05:19:24.474361Z"
    }
   },
   "source": [
    "node_labels = {i: i+1 for i in range(g.number_of_nodes())}\n",
    "pos = nx.planar_layout(g)"
   ],
   "outputs": [],
   "execution_count": 13
  },
  {
   "metadata": {
    "ExecuteTime": {
     "end_time": "2025-04-23T05:19:24.569562Z",
     "start_time": "2025-04-23T05:19:24.566312Z"
    }
   },
   "cell_type": "code",
   "source": [
    "g # <networkx.classes.graph.Graph at 0x2287ccabb50>\n",
    "node_labels"
   ],
   "outputs": [
    {
     "data": {
      "text/plain": [
       "{0: 1, 1: 2, 2: 3, 3: 4, 4: 5}"
      ]
     },
     "execution_count": 14,
     "metadata": {},
     "output_type": "execute_result"
    }
   ],
   "execution_count": 14
  },
  {
   "metadata": {
    "ExecuteTime": {
     "end_time": "2025-04-23T05:19:24.726438Z",
     "start_time": "2025-04-23T05:19:24.647266Z"
    }
   },
   "cell_type": "code",
   "source": [
    "import matplotlib.pyplot as plt\n",
    "\n",
    "plt.figure()\n",
    "for i in range(5):\n",
    "    plt.scatter(*pos[i])\n",
    "plt.show()    "
   ],
   "outputs": [
    {
     "data": {
      "text/plain": [
       "<Figure size 640x480 with 1 Axes>"
      ],
      "image/png": "[encoded data removed]"
     },
     "metadata": {},
     "output_type": "display_data"
    }
   ],
   "execution_count": 15
  },
  {
   "cell_type": "code",
   "metadata": {
    "id": "6fdtV-fq6eMI",
    "outputId": "99b9a16a-ea22-490a-997f-99a8295d2836",
    "ExecuteTime": {
     "end_time": "2025-04-23T05:19:24.840307Z",
     "start_time": "2025-04-23T05:19:24.765949Z"
    }
   },
   "source": [
    "fig, ax = plt.subplots(figsize=(10,10))\n",
    "nx.draw(\n",
    "    g, pos, with_labels=True,\n",
    "    labels=node_labels,\n",
    "    node_color='#83C167',\n",
    "    ax=ax, edge_color='gray', node_size=1500, font_size=30, font_family='serif'\n",
    ")\n",
    "# plt.savefig('simple_graph.png', bbox_inches='tight', transparent=True)\n",
    "plt.show()"
   ],
   "outputs": [
    {
     "data": {
      "text/plain": [
       "<Figure size 1000x1000 with 1 Axes>"
      ],
      "image/png": "[encoded data removed]"
     },
     "metadata": {},
     "output_type": "display_data"
    }
   ],
   "execution_count": 16
  },
  {
   "cell_type": "code",
   "metadata": {
    "id": "0VaQBfMd6eMI",
    "outputId": "087af4fb-62ca-4f4e-d1b1-d49c088df1ca",
    "ExecuteTime": {
     "end_time": "2025-04-23T05:19:24.866551Z",
     "start_time": "2025-04-23T05:19:24.863584Z"
    }
   },
   "source": [
    "pos"
   ],
   "outputs": [
    {
     "data": {
      "text/plain": [
       "{0: array([-0.875, -0.375]),\n",
       " 1: array([ 1.   , -0.375]),\n",
       " 2: array([0.375, 0.25 ]),\n",
       " 3: array([-0.5625, -0.0625]),\n",
       " 4: array([0.0625, 0.5625])}"
      ]
     },
     "execution_count": 17,
     "metadata": {},
     "output_type": "execute_result"
    }
   ],
   "execution_count": 17
  },
  {
   "cell_type": "markdown",
   "metadata": {
    "id": "QmvwX9dG6eMI"
   },
   "source": [
    "Create $\\hat{A}$:\n",
    "\n",
    "$$ \\hat{A} = \\tilde{D}^{-\\frac{1}{2}} \\tilde{A} \\tilde{D}^{-\\frac{1}{2}} $$\n",
    "\n",
    "$$ (\\hat{A})_{i,j} = \\frac{\\tilde{A}_{i,j}}{\\sqrt{\\tilde{d_i} \\tilde{d_j}}} $$"
   ]
  },
  {
   "cell_type": "code",
   "metadata": {
    "id": "REAYFuig6eMI",
    "ExecuteTime": {
     "end_time": "2025-04-23T05:19:24.887925Z",
     "start_time": "2025-04-23T05:19:24.885616Z"
    }
   },
   "source": [
    "A_hat = D_mod_invroot @ A_mod @ D_mod_invroot"
   ],
   "outputs": [],
   "execution_count": 18
  },
  {
   "cell_type": "markdown",
   "metadata": {
    "id": "7rkeFek96eMI"
   },
   "source": [
    "# Water drop"
   ]
  },
  {
   "cell_type": "code",
   "metadata": {
    "ExecuteTime": {
     "end_time": "2025-04-23T05:19:24.900874Z",
     "start_time": "2025-04-23T05:19:24.897996Z"
    }
   },
   "source": [
    "H = np.zeros((g.number_of_nodes(), 1))\n",
    "H[0,0] = 1 # the \"water drop\""
   ],
   "outputs": [],
   "execution_count": 19
  },
  {
   "metadata": {
    "ExecuteTime": {
     "end_time": "2025-04-23T05:19:24.914753Z",
     "start_time": "2025-04-23T05:19:24.911935Z"
    }
   },
   "cell_type": "code",
   "source": "H",
   "outputs": [
    {
     "data": {
      "text/plain": [
       "array([[1.],\n",
       "       [0.],\n",
       "       [0.],\n",
       "       [0.],\n",
       "       [0.]])"
      ]
     },
     "execution_count": 20,
     "metadata": {},
     "output_type": "execute_result"
    }
   ],
   "execution_count": 20
  },
  {
   "metadata": {
    "id": "p_fD7aZ-6eMI",
    "ExecuteTime": {
     "end_time": "2025-04-23T05:19:24.943494Z",
     "start_time": "2025-04-23T05:19:24.941095Z"
    }
   },
   "cell_type": "code",
   "source": [
    "iters = 10\n",
    "results = [H.flatten()]\n",
    "for i in range(iters):\n",
    "    H = A_hat @ H\n",
    "    results.append(H.flatten())"
   ],
   "outputs": [],
   "execution_count": 21
  },
  {
   "cell_type": "code",
   "metadata": {
    "id": "sedbp0gK6eMJ",
    "outputId": "43784ed4-4644-4916-9da9-08d690748187",
    "ExecuteTime": {
     "end_time": "2025-04-23T05:19:24.992150Z",
     "start_time": "2025-04-23T05:19:24.989002Z"
    }
   },
   "source": [
    "print(f\"Initial signal input: {results[0]}\")\n",
    "print(f\"Final signal output after running {iters} steps of message-passing:  {results[-1]}\")"
   ],
   "outputs": [
    {
     "name": "stdout",
     "output_type": "stream",
     "text": [
      "Initial signal input: [1. 0. 0. 0. 0.]\n",
      "Final signal output after running 10 steps of message-passing:  [0.18381719 0.20791335 0.20436693 0.13626176 0.13626176]\n"
     ]
    }
   ],
   "execution_count": 22
  },
  {
   "cell_type": "code",
   "metadata": {
    "id": "tsmMOFGU6eMJ",
    "outputId": "fc63a597-6023-48b3-d649-0c3b0f6ab597",
    "ExecuteTime": {
     "end_time": "2025-04-23T05:19:25.084585Z",
     "start_time": "2025-04-23T05:19:25.056565Z"
    }
   },
   "source": [
    "fig, ax = plt.subplots(figsize=(10, 10))\n",
    "\n",
    "kwargs = {'cmap': 'hot', 'node_size': 1500, 'edge_color': 'gray',\n",
    "          'vmin': np.array(results).min(), 'vmax': np.array(results).max()*1.1}\n",
    "\n",
    "def update(idx):\n",
    "    ax.clear()\n",
    "    colors = results[idx]\n",
    "    nx.draw(g, pos, node_color=colors, ax=ax, **kwargs)\n",
    "    ax.set_title(f\"Iter={idx}\", fontsize=20)\n",
    "\n",
    "anim = animation.FuncAnimation(fig, update, frames=len(results), interval=1000, repeat=True)"
   ],
   "outputs": [],
   "execution_count": 23
  },
  {
   "cell_type": "code",
   "metadata": {
    "id": "tFDSwGKv6eMJ",
    "ExecuteTime": {
     "end_time": "2025-04-23T05:19:27.183611Z",
     "start_time": "2025-04-23T05:19:25.090590Z"
    }
   },
   "source": [
    "anim.save(\n",
    "    'water_drop.mp4',\n",
    "    dpi=600, bitrate=-1,\n",
    "    savefig_kwargs={'transparent': True, 'facecolor': 'none'},\n",
    ")"
   ],
   "outputs": [],
   "execution_count": 24
  },
  {
   "cell_type": "code",
   "metadata": {
    "id": "AB0aT8Ob6eMJ",
    "outputId": "359f0f08-1554-498f-b08b-a2dc13ef1c88",
    "ExecuteTime": {
     "end_time": "2025-04-23T05:19:27.478411Z",
     "start_time": "2025-04-23T05:19:27.191441Z"
    }
   },
   "source": [
    "HTML(anim.to_html5_video())"
   ],
   "outputs": [
    {
     "data": {
      "text/plain": [
       "<IPython.core.display.HTML object>"
      ],
      "text/html": [
       "<video width=\"1000\" height=\"1000\" controls autoplay loop>\n",
       "  <source type=\"video/mp4\" src=\"data:video/mp4;base64,AAAAIGZ0eXBNNFYgAAACAE00ViBpc29taXNvMmF2YzEAAAAIZnJlZQAASPFtZGF0AAACrgYF//+q\n",
       "3EXpvebZSLeWLNgg2SPu73gyNjQgLSBjb3JlIDE2NCByMzIwNCAzNzM2OTdiIC0gSC4yNjQvTVBF\n",
       "Ry00IEFWQyBjb2RlYyAtIENvcHlsZWZ0IDIwMDMtMjAyNSAtIGh0dHA6Ly93d3cudmlkZW9sYW4u\n",
       "b3JnL3gyNjQuaHRtbCAtIG9wdGlvbnM6IGNhYmFjPTEgcmVmPTMgZGVibG9jaz0xOjA6MCBhbmFs\n",
       "eXNlPTB4MzoweDExMyBtZT1oZXggc3VibWU9NyBwc3k9MSBwc3lfcmQ9MS4wMDowLjAwIG1peGVk\n",
       "X3JlZj0xIG1lX3JhbmdlPTE2IGNocm9tYV9tZT0xIHRyZWxsaXM9MSA4eDhkY3Q9MSBjcW09MCBk\n",
       "ZWFkem9uZT0yMSwxMSBmYXN0X3Bza2lwPTEgY2hyb21hX3FwX29mZnNldD0tMiB0aHJlYWRzPTMx\n",
       "IGxvb2thaGVhZF90aHJlYWRzPTUgc2xpY2VkX3RocmVhZHM9MCBucj0wIGRlY2ltYXRlPTEgaW50\n",
       "ZXJsYWNlZD0wIGJsdXJheV9jb21wYXQ9MCBjb25zdHJhaW5lZF9pbnRyYT0wIGJmcmFtZXM9MyBi\n",
       "X3B5cmFtaWQ9MiBiX2FkYXB0PTEgYl9iaWFzPTAgZGlyZWN0PTEgd2VpZ2h0Yj0xIG9wZW5fZ29w\n",
       "PTAgd2VpZ2h0cD0yIGtleWludD0yNTAga2V5aW50X21pbj0xIHNjZW5lY3V0PTQwIGludHJhX3Jl\n",
       "ZnJlc2g9MCByY19sb29rYWhlYWQ9NDAgcmM9Y3JmIG1idHJlZT0xIGNyZj0yMy4wIHFjb21wPTAu\n",
       "NjAgcXBtaW49MCBxcG1heD02OSBxcHN0ZXA9NCBpcF9yYXRpbz0xLjQwIGFxPTE6MS4wMACAAAAd\n",
       "N2WIhAAX//731LfMsu1Tb7YLqPeiniZfQ3UlAZuWxO06gAAAAwAAAwAAAwAAKALwtlxqWAk1rsAA\n",
       "AAMAC6gAagALyAGuxb//hSPYeIApq4Tp68sJmTkUG+YZLHZOJytfD6dlpQK0d+5uS7RUkm6+Movi\n",
       "Gu2y1TuIE9+L2erKF1jN0GpRVS5Ni9QaRGtpS+A1nv2JM3ZngEw0/LXCNP8T8IPjH2edl7EFdowK\n",
       "8Fkjmt+A5J0m/UM0+WHPVCTSbsp1EWLo+RFFTqTXF4Itvp+55jMAONjAcQJERkz+hbhXVYZTNOCL\n",
       "5l5f/gPllSvbyFn9/JdiAQOChjmDnyi1N3cHepbL0IJp1GesEIdhdo5jRJwQHSsiH4FDnSVezhjp\n",
       "Wbt7hqmrQglWhwgfnwtszySvIA9DBmfoum1pfGYJ0TndM6/UDOer//fehstwLuAj2rBNvYxUQ8v9\n",
       "G/WEeibvgEAPwqE0Rez4BOi6b6V1o0nnMRI4i8jt8nchwePoQBoIcoJ+73E71jIVOBNjbFGS2zgA\n",
       "sg8ds+u0CLJ9OEErZ7lkE6JZ2RKncO/i5S/Ry8XWdRKxfpZ1by8WtW5mUW+yqKt1NE8IC1dAaKWh\n",
       "mKKbBVhqLFEfZrXkO412TQTNRSGjS6EeeVJMmJFSGpuCE0MdLtO07jQ90S+oShRtOI55s1XdXRZb\n",
       "3/7cVaD9aVeshIRdXFI5wkwbvjNehdm3rZvcAS6tNqvjG42ynF7V+B3Alv8ORZcX4qxyrYpmRLF9\n",
       "cHW4DoNa8FnyEmsRMPaR0LFbjzkzbMp+fL3Hl7u2+DGFKJnUvkUIwsiozj5I3UNt9MN3hdch3f6G\n",
       "17Sk/Ta4ytXxcWHA+muu3AqgkCCsmY5bKPkXOEE7XgUQw4RQNR8r4hlP8IF52p8Y1Y1l+DsjNQeF\n",
       "ZCJHxL4lgDVW7ZwkC1AC9fQKeDVDN2TYjXV6uDt5Lk9XgFGm45Jwh9RWl0xlWzJWnP6YqzBDHK5v\n",
       "FEYmMdqAH95DV8K0Uunc7sMEArvxMJq+o0OTZLcBeWO25neLg610PeYjY3sxRhXft1ppTup8cdsY\n",
       "3vuDMvba1ougWHk1ZRIJwKWZQiOkkIVFkfZlL3Xcl9mYVpJ5cEwsgpdqcliAWkXVJ8pM53osEZLH\n",
       "kPObBtKRooZ4vQBOGb1Tlv+uRJ+aQuoI/ow5Lg8K6xQtuyRwAbop/9Yn37wzVoMEL/0c6oza9TiG\n",
       "69ziit9OB8CQwEmz1LmNhu6jwEwCpCqdl2Brsm6dYYhbffTZqUx4O0GAtMWje016SOQtzAJivsZ7\n",
       "xdO9eGhv+/hMrrYELv3Op8TKNa7/4w46heLoii/zwhkkr0O/6uSziaVlOw9e2NFo24u+iHgn+74W\n",
       "83SQ8jiRse+5Orn55KZGbVdy+tX855rbNoXMCRXJGe5QPOIsAPrhbIeELCyIOKXLF8cFfCzYstiw\n",
       "d9A4uDGBEkeTtgXb//+dWO+YK4G+iGWHCYz2dyVHBJ+mSrAPh1mJ89zH0a58g/tbnbviNgzXh56+\n",
       "c5Hah6LKEfukL2DAZeZHDhANf8bvOCwlS+uBr3Nv8NypQssfc3+VXNjYhQJw089lsnFTbRregAOz\n",
       "zQsgF+qQrC7pFOgNNR/onEnNLjgoMZKieAIb097fI9xncsHXtVEpVMejeMoYwaSd611bhBW4frYZ\n",
       "hXAoRZG0eDwHWfFN24ltJGwPhPBOsh7OJOENCSN147xOn0x1vWRatYH52aDoOrCHEb9K4B7b2zEc\n",
       "m7VAX2A+3H4FOT525VO3lmOEiPOkn1FIIqvCH/VNOCOA+Tz47NJZAjqq9LGikXDpcNUjlfqTXANE\n",
       "WKNwetAkBOQ77zw9i6rCmk3TAGBC6CKqsw3dvVsnfEL3LvIyNIN+uoa7RxAbpV8ebsy7i5g+5L8C\n",
       "GPIXAkJFx2bGnO8s+8n6Ig35PdlI5mwDpwULmgpfhdhCeo/foR13gPZoHcLpUXDesYnRcnFSKVkS\n",
       "3R1yZMmW8caa+U00wCpkNE0gFq8uVme00tXbrgXFLAACTpQtmCAk8piHDuLrrIq98Lwg1+7RiqLR\n",
       "lUOJRh5C1ekmt80SJpD24RkFQ3V+SvddoZJuTPvNMPU58AAALznMrVSi2FNH+u7eT7k5GF4Gh+Qi\n",
       "/daEelCFK2YOIQbFGlqguPPkgOLBmAsqlJiW7HjzCeEt8RXxO/3QDry5UAADiO2St7Js/qKsnqZp\n",
       "8+YsffXcAw3hn5BMW/lqtCbEosrO4x9lCH+5cvfB2ZllSB+ICWeYieq7dzWGtPUQAAdAFjzQlY1v\n",
       "GG2bHhlUQxMT6xSk7GAZmvBcjvLDCkT4M1I9HqHGr7EZWDLS8cdnqfivptLzussHizym41x0436W\n",
       "rHtfn8FJoAAIKrkbZhmsjy8EP1c0BqTbxEPdbAne8xYbWqstneHh+R05ncx/3vS3KhdWobpp+6xO\n",
       "95cRzWGS2d4SX1kMk4MhAAH83azyhY8HAAhmICsUrFwGJeQs69t3M9fE7ozf6c8rljc8ihku3S6q\n",
       "nh8XgtLG6zl4vqIkPyEixv6/vxkJkgYAaHibQAAFABz/bgiynlFSTwrpFJ/gPCjiF4qDpxX4VpiN\n",
       "ZFDBEmmTNsYjO+dltIFn9GxZ2eQJbIt/3O1zxwWXymvEAAAuvbLsRm8jcs/4cc1DRvp+Qs74JOCG\n",
       "O/FtSzZjlFRYOpD2cZwP0sIi7ucBlKVrSPFk83tzIQPO+Zp5x4caM3vsP7XrYukeRudphwE8lcw+\n",
       "EBAP4QJaEPlXLalmG9nhixP4gh/OKMFCx7KieHouMPvCeCXz24E+XBDumq6OqIvyFRSSBLPNH8Oh\n",
       "KCh39ToUKEZfEUXXGVTyZ5/UdKqcUnVgzEl8etsijgeezdboyNIx4wzPhUghUUdXfAYvghflsPqV\n",
       "yOfqMDuZ2qKoBSiF0C4zfllrcgtqKuUu4AAEhNwVXkDtq+nd52T8lZqB+a6Da7dFcBnq39E32KhY\n",
       "wYt9oSCJQY3kitjIA/USoXzyBswLsRlwVCnKel7L4tetkCRgbQMFnSUj+bzcR/GeYcXooZBBtNkV\n",
       "GeurqgZOM4sRW3HQtpluMvKpDkjokOhs3WX5hAAAFJc61ZUouTd1dBZGnhtaltPhVGsL5YmY/JhZ\n",
       "DNy9wn0LX9YHj4OROrrODZkDIIyU4Di/8SBPXqzuk0ArTPRSHzc6xIyH44IYZMuJXAZrtT485RRg\n",
       "86xVRqHolB6xvQQ1PASs1mgHslDqacbr7L+nQSPCRDTEF62txT6Pu/zaGqwAAB9jMWkjPZL0zE4F\n",
       "LXUxPOGSZegPvgZkTUJf1YEc659o45nFFhWZbwGZOOZqOVMKByGe2Zp9f8/FXQEE+KLcK3mJw3Dg\n",
       "iz2rJl29pZTAR7+THcA6jaAv+smAEBfplDlkOezVM8uMM7oHB4zn5kbmLdE7VMwv8u2iNDsYdyQ0\n",
       "UE4uJNWPp9kiP13nbIKlcvCQo7IKEeyjakLuWvbSVC1tPrvaC3ilTF+iYMzGcsR1Vl+OZ9jsf4Ps\n",
       "BT4ieSpmTM8or7x1O+dpPTAlTLhCEVK7ZmMDvrMk06PfHceHllexjnYLVmB+HO+j6546haRWYvNW\n",
       "LH6XUVA8D8il+K4C4PLyI2p0RKXX9eMjYUzx5XQOvCoFf28XGipO9AV0CSPzoS5nXj+6LSVj6VnU\n",
       "XaPjSe+vAaeW7X4s2He63EEqST2H7Uu8GputZF4rEUPrT9JgFtPGRKx4E0Lf5fKEdHBwTKDgABmB\n",
       "80sCAhstQj7yEdsMrtSyKSEYZaklRe35pEgsBb1z2ZkQ3SFjmU/FgUlp657b16m9F6NiSaDLnEto\n",
       "cvGEVFrtZXUUXK+b1ZshLpOgX0Z5zcUYgTsjE8l1o3uBC6+tBEKMGpjaQVHLWzUAa0KAdYpCgczj\n",
       "ijFsKdc9+m0IFpX1gpObCdmM4gb3tHlYjUbzyJRqAY6Iu76UFoGA2Kmhbg5PuXWH7lpgS//jpEe2\n",
       "UKMsrI0OxeP06iVJtOSXDJjFLGz+Gesq1YwOIWfnHPMQt6sh7xddSqWaAAAlEbr9c3MQJA3NclLE\n",
       "sK3okkBKUmvBYXNVW6h5tjO56FNLC4aCW9Mlt3KdHHXN6a1rmFWXMAa5Mde4cGWi/bBkujRPvjUr\n",
       "bQrzz1p3bduB7NCfbhpzEmJCt/gQ7Z9MI4lvUNmN4OcKkwavG9YG0aoPy+CAkxnMSJKMkmkTb2Rm\n",
       "+zJxAXSOHtsm9JSThdRXkpjuuvwQZAtyGuesiCGvKW7lQY7P9c5mRYGPvJ3ttpZZ4VhH5Aa7fCpi\n",
       "iMvYCD5OAkbAocT2i47WVwsG965Y373BFpcYgEdAANaGKPet9+2ktKJYQxBOsjHzU7Tzk2mVA+/D\n",
       "OCuGQso0TJWPYa8vMqbb57X2tQWnDU21NDHk9X3lkqrjPH2niZxE3LmpkM71FNpTTBGpCkguCZBv\n",
       "1LDJ4r4SUkzcqX3IoS89SJxtSf7IXMxvOKLcl0I8IyHzQenvbgSyGcJ8EkjLK1uSkjxV2cg/VndM\n",
       "1Ic56X7YN1AdHbbE52If+DI/TD3jSy+3ATaIh4HnF14eMBCm8NXd/WzCXLpky7y12TqfGSholEVY\n",
       "+V1R6JMBDFvZiAAF26+UfIb1PeiXP8pIrPgF1+s5532dcLXEvqrbw9u1KpYCkN1wvhNbx016U4dG\n",
       "M7tflMQAK35+2TdzPmZ9JB7AzZEFicy4CbVbCb7HLxGtXO6ZgTDofUG7Wi1rr8F/TKW3TuAbkXzV\n",
       "xjdnG3CUcuMhjfhSuVXH8CIFHi80k/IBjIo+xX5EojXfsDYrjx7Ns26WlQvt2aD17gQE8Ujmdcgb\n",
       "ceuGxRh0UXNJU1FywCWqIPmsyIPwyAyZn79o3LIyGZ1XnjRSJD3f+6lSinoWKflBjmRSLKzyN/S5\n",
       "p1AABtgW6gmeqINE2j7tC8uKYxLsRLbU3Kk1XDGhleXQPg2e8KCHwcWP2tY7To7qeVQIfLmXVB3d\n",
       "xHB5JOlYLpDOCPlui+jdtMDyrtm/f5mBtjGj9ayPdFM0pYhjXkk9zB71rwpHsHn0e3fQvYPxKU2m\n",
       "znXTMn8xpnG3TndbMN8frerOWeG46e5pMenx+yuywu4+n2gFzZRUILsWt6Dqc/ggBBZtTVH5Fk48\n",
       "EtWePxbLLjsG8udPqlaK5Bc8zVWarR1h7yCV8toHMO3F+Wa/3jY66HmNVDl6u6h5A6zFAAPq86iq\n",
       "Q4GxqkbmUTi65GpjTs8oo8+RuYlqeh6lyqOdrAKGHruJms3aG7Q2RgdmN0A6sx6ydhC2o1lpFKFV\n",
       "6YHjc56CWjlkAZHCj3XdYqexQz21sJ0hRCwQFdQ8Zq+HaWM8HYSf0ZP57R3H9Wq2dHaBk/jkRAtn\n",
       "347DHYPUu/cePe6FNKP90fX8X1X/iC6aQo1trRBsMjNmAybSDc/ZMc2nXXvYYylw3T+78SnkiiQS\n",
       "1u7KWyEKpZdJk+nUvgYLjOfkdEU4HzbiRWazf9GZpemhs19Tj2Mf/4+vwWTiEiADPgurS+DchwmU\n",
       "qAmy5J6+0ElTPzsj4hIq2/75M9o17lz0igptYQxj+eAH0PIlms39pGPHOL2A7lcRIBZFNjFB1ht2\n",
       "RI7qBa1tsAda1oFN5RwsYmxeYOVQvaPkfGgFf+EPxMzq/ejcFFgoAxRZmEB1KSzZKg8aHQWU9n0N\n",
       "3lc+Ov5KsGnKBeF2cg5RJ/8rdcRDK8WP5VGWFtqnaQQ+OhD2DW/jkQuaIh5kZlM2kGEkKncLKhkI\n",
       "Yq3T5PlaPs7epQQGsh6YestSaOuwgigZvOiCW3mqslO7qtkWGOYcFgAs5/mzo1fsvqH/JKuHI73E\n",
       "m/tT7V14WidcMbCZkiSLfC5PcFYSt4upXlkpnWQNxujwDQkc6bYLP2qoKvQkMgTP8YR/csCkPEan\n",
       "uko5ESHj+4o42yaQQ04N28MZj0BvxEkOEvRHdzD12AV1b5GtRgG4G+9SWUT28qC6x/zf3OGxb4Rd\n",
       "1yF1uTPDXQyZfHjjBksO1GXi1HyhMl2l2CEcWdGeqgUrXmxqhv0qn961F6Mf87XYKTQsdP69HFKt\n",
       "xibagLx0lCmlH+gsFJoOVCGUQGStzWhWkPjNNayAIQBQvKUhrpXs3sLHD4Nn5UzS/E/rQ4VQ7zTU\n",
       "IRJvtXf1BsCXw59Jg6dRgUNAEeLc7JnKvJY8J1GZmuTeHLs0drMm5xkr5tfSpj93sH7o6v7ZmAya\n",
       "n0y6LIM7ManfQNOLlf5kLc/5+Gq4TgpjGPXAmQ4OypyuCG9SJtp+eIWDodI3le0fLhZdMVi+NuI4\n",
       "5TUnpxtpGvnCI24ogAq9oGcRSM3znU1z6peXJmzKcKBvBBSFUnjeW/xr0CLaiL3pcfGQJbO7iqpV\n",
       "JHX9yi2pInn5+45hy6AI6ZReEJr8W6hfyQjuKC8VUd8AwedEPVBeKzziejwwEGA+qFjhXxxhkysk\n",
       "KSgaioS/0gJ30CZqoVZSm/DVoBqsbscP8mP5SAWcLzJttfVCK6WcKuDNz4w6d2LeLugL5gxQ9bCb\n",
       "EKySahKrSPnI9bGSI/xuSArvVIOeepAguSsVVXj4JZsLqdS+3PCZcJDgZflxcjzFGM8LmtroM9Az\n",
       "8sFdZ/T4iiEerU+R2XLeO09uOBg70TiFfmjWICvJO6+g9gGaDsDPyfc7cLNCxXBoNV/shJq17wJD\n",
       "vTlwmROO6e6+7gzFb+JBleUem+ZRn2yNwXbjbWGZG0beDapq7t5qIFSxUiEfrNtfjiqzU2Esuxpm\n",
       "/9jtA7Jl+niKQ7s9aJnRNELh9xnX170VDxwO3lgAGqDZQ9yfHVWpxSbqkEoygN5utU6oYKWAV1w1\n",
       "uG6PMzKEyotXGXWWUNghVGS9vaZ+5kd6CckgCT0cdkKMX9SpQt+1nUrfaE4q4KBMASQCSNqX9aw0\n",
       "/XA9A4qZ+Wf+TtlGGxID5/p5qJdFqJUIok9K77o7ZkSsTphdWItlzPHROllw2Wctb4v/EfIjhois\n",
       "N6xsYdZQX8ZP957yv2chK0v2zheQTd0GdJI9hRLMxnKl6y2gna64x24Uc5UNvCtP7lnrZyiLYTam\n",
       "V65unsyjd5DkjUCj0CYI4DBRTYhQsuajJZ8SIiK5t193QaPy272FcVvQDr0gD12SU3Aj5RcvWX90\n",
       "Bbi5wj/gqHM/ieEFrrfFB6ij3DEnX2Mdpk6+Uv0lj0dvkMjjtaACHt6kBH06G7q/qmABferKGfAY\n",
       "+5OPrAXcX4TvQlE604IHCSyaNDcCiteNNx0rapOW2cWaqj1hPdy17fQmpbzaVzN3NdHcD+X+PhYF\n",
       "9zxRUqSmsufPwj62m1/I8QPvNWr64pv+dmKetIpg/qAYdFy5+53NDSNDjka9i9V4FcnDlsHXIu46\n",
       "0VM08iAlA3e4w7masaNZ6ngCh4Of85CkYHQTRrAD4feibjRSM0oTkb+2vNku6iOgoCQAum4uW0K0\n",
       "KrOJRGGqEfSJ7tzjhH6o9qk/dtWwa8okIqKuYx2CPBIVYZW+pm8/QPIn8LELMxoFtXeb9g9MaPPr\n",
       "hiH+YLb91Lz2YQvZpYta2hBi+drWI5h0az8h5pZjuW5v02SekVKsSsBXFkdZGWcARfAS/FWg2KS2\n",
       "2ywN6JQyCDf1mPh0ujj81kyVnSwnv5ZEua5jhtZRBjTjhx3ADLLt3ovw723DoudMsjBJdByKRPcJ\n",
       "b5f0KndQBPtrUEg2uK9qXfui/9+0ys6FZ2W1JJFq/A0j5cIae19jzWP8N5d1eBpYLZjfbFvkFmLc\n",
       "nqq0qct7A8PXs3cpvYsuDa90wrACCj6u3beRG0zXjc+fC+wxK0zPmuSJJfLYms86CxqqCOdKIgoA\n",
       "cTaJEAN3hBpNCw+cgFnW8lcKB1BjEmdoMpoH/fUq2j4sl2z12PSJ6g0bpJCFC0OM1KmP0d7Zb+9S\n",
       "t8BkqFVAAByFlu5EkOUJqf2yInGje98IPGuxj06FfGo1LNaf62/MoLkcKl7uVDFzHGTC6z2Tz7SA\n",
       "CM5654kpX1f00U7ZYUwAAluzWcFFQ0kkY/EWF7404kYPNH2H7Maa1FKKGFHE2m7i3VuKKGK54RzC\n",
       "msaqK+T0rvDzHEyngYsWAABjAV8dWaYiKvXzqYjlsbtMNd1+pHNqe8MebjADv61mxdjU76Fp6nhx\n",
       "z9pGoCwDhnR0AqsDhnhg2ih+yfttfn6AAHJ/qj72IgApoZ2w9J1J+iND8QFXrm7ZEdIHExb3Ylrq\n",
       "gJiLYheHpCEUjSROyjS9UcY0yGQpai/NAADJGgiyst/r0Ebbsr5Y8TH02rWs5qa+X5L1JZTR3xZj\n",
       "NZO+M666pV3eCxge2jl2tn0wuHy3IbQv/PzZEDuctzCbAAAFImkLf+oMsRv7IfK8Rc28yQJeJCEV\n",
       "FCAz2fMRDUOZqw1QNvhMbhDU5YIcaKYAtHx4A6SRlbr0GCZ+xQABBjU+aGhoSn7dxjaTEZG4Mjv/\n",
       "LJF2vFmXHewqFGs5rAj3GhrDxyUovTZqSVtEsQ1RoTspBaNwCdyfEJqWANCGPTJHcAAGx7kLf+oO\n",
       "MQ+HmasGWzalAF94yzybI4r60wyTwRNYDFqdXSdKJ0Q4raulaBZEXxORFnZRfNnv3/aREO8wP0sR\n",
       "DKwjzKuBQVNP/zx6++Uzh0FbH6hl61RRM+qrnzzO/SpM9hvUXYit69cl/8w3ObJBGz2ZxMV52IXX\n",
       "v88CooKIzVY6nloeM6ZxAORf5fLYugCd799Jsdfuw97UzdbsXsRSlOAzzMzQYjYumADF+MW33Vpr\n",
       "IQ5lXSY8sTxfejAimBiukL0Sw+T6iFG+8luNfcLBqdzZ2+jgibcs+3gThJBn83WHuc3T1Qk3NzWk\n",
       "Wp294lB1fqa6g2k5vczDih2xLi6Ns825ExlhGcK1JgKD5EwdNb/npUl0/wgbYILTNo0mjxl7YVgR\n",
       "3xh3afLbyvnRncVF9BP2UX274vdhJFyZoBz79kj3cqfpHPgBIcrF8B9pOP/Jq7i2+xwUxjQwV6mZ\n",
       "nVTeHORZipj3UTjjfeP7ZZ5jsdemuKmDZoVy8VbGj670OzcOjdSl5yBN71Bo241TmWADxHCG3F0s\n",
       "DE6GPyIDnaV00D9r9YPUxPjSrDzLDQQ93iI0bDo4Dqc8yb9BjRi1N72dzV1p9N5UWUoK/84qSHSG\n",
       "GGp0v9rWko0RK1rRW68T+Yqcv9oYCUswVbCyW7p7cfBlM0xTxTaDepVV7Dqs+IBvIo5lF8CA5i7w\n",
       "QZfuet1+s0lqjyFOUXovYzscDVkfm3SQ8MrvuaFds9+/99pY8zTDByobpffQ0pOV1kzdxPPwO09P\n",
       "Bp6ntd15VIStN7/OY2ksosuFP5PDRO5g9BfURixfGT9hNVUAR2Ex11p/3AgBax8WdgStPDfKvl9W\n",
       "9mU7uxrU5jfUx/zczoofSQw7/mAkgNKHdAAxME2IDO6ML1ttzvKhvVDyavqiy831HdcW7RDW+G4m\n",
       "J9CwBNRcGax3imh9DlHgQALYsaNg098Dub6amLe8YqTCouPjCjqVqPam+g/HcvWtoig6ifuFQCSF\n",
       "Jqdf8Xg1f3hFqlJUA8cn7nRc1s0IAjwvBM1Io1DgoCWZktIPi0bkVz/mmq3sZysTXNpPSDScSNkX\n",
       "lJdt+APnBGY5fx4H/2Dw/F8EpA9i3cxLAALsEVOO7LSyd5f3ArdH/ohMl1V9Cjon1dbfg0woHSP0\n",
       "VFOLbUzggk4ZRa89pJVY4rBrh7MXbt+jqo7zbK6cxBisc60MxerTVH4lFtN9/rK9xhucEMK/18pG\n",
       "ZeCOxL9aRjD0vuuMBAaiyzHkyyXpbblRxuY8JIdqixqVT/3BqA4T6k+8aZvk3WoQy5DPXjokOF32\n",
       "POYlddCYVWdmZr/vUSvWjaN2yaf0kQisPiONTDcXuEeFUCSn6jxBGkn4iNxYX7AinQxFprSNTpIk\n",
       "O7bmWrSrZ0AN1yMM3YEejRLraR9Ap3vgu16wAAu8C52CbUN0bSpRZFP1uZNhmZ0VGmqQBKz+tpJL\n",
       "iy4eWS8ayqy0MYlaUePrOqzO6zRm82zpjWxQpKuZ32z+mmACCZNaAAADAAADAAADAAADAAADAAAD\n",
       "AAADAAADAAADAAAa8QAADilBmiRhGA+hlSAEBQX//tqmWAAAmDsUoACFbEFVpWsuQtkxcWGx5b+m\n",
       "lD7LAP+ajIi0301PwDNkFg85CXl3nz9FFas+IUC9wD1PK57urdvxt9IflEUZMc4ocbDYzNyA9fwI\n",
       "V7XsmXHZh0j17rSasYdzmW6GWlOcn/P93VZvXgtQ09yQ1v3HC22EnGmii8UZgdLagC+3nVallQiR\n",
       "XlhuSpzE1BdDa1dbmjuGSlLoIZv7AkuKooPSE1ibGvMQV4QlPMIlB5EDGlUJHz0Fc73qjmicRHD2\n",
       "q0SDxkLqzWch9YMDGvnm7v8z+/He1j4mivSysDUjJxL+RngeJXKoMU8MGI63fww8mSzEPHp0LLr/\n",
       "XhT3JW5RPUYvI4dctOp/i6XDCCuq0M8Hx+SsfjaZVIfN641cbMaUPEyigGf7LubYwLTk9mM8xbMj\n",
       "93C2Xdofm5Xj/MiWKw+xfcXdD9vSfQyfRHLdEJptj6Ax1y/veesSOS6P3CMJRrW2C5FJTwda1jry\n",
       "UdnZGnsa7OkJOH0JGL59wD6/RnkGe56pJUdAqqdFoEULTzI2KE77oz9YlHVd+drojxHx2ak9vwv3\n",
       "jku7Rnv0FNUhD5/sgnBpuMVR87Uvew5zYXAje8PV+rLuWjjkyvV1FytaO7MmH/VPrR3rem4X2slh\n",
       "pSmG/Bvu8DFjHvs1xyZ7ceKfSx+xMZHCbeSnYjEH0jELk+ZGSXbqgJ1D71jAIl4bn4E6re9CpzZA\n",
       "kigpuY28nSTEd+/9MbYFLG/d/37nriSI+AQRA3ch7Pd6zM+XRhH8o0gnsJMYj+HANz881obX7e4k\n",
       "Yn4At6kU4RVPeYYen6Up47b9v4Czx9ZU1NQD4Q47T+uacStAJQXHtx6twq1/hqNW95eH8IuXXLRl\n",
       "v4Mww4s6+uc179qSBK7KmSU4dbqh/XlA7AEBkB4kGeMT3SwJGNAf96ZLp+HhUiS1lgEKwXK7zlFi\n",
       "yz4UimdGkg1TbjJ4LYrYgwngfW7x8EWfUwCYrJt4Qf86GWtzKkgPTSJdz0jWxXmF6GWB6bixqqMH\n",
       "6CkSDDRYx+eR4AAO2oXvAiPDzYsc7mp0vy75OA+2I66to6b7PXbBwOD7D2x0MiduLUI3z7ulO1uT\n",
       "vBnAAZzfCkLlOauFUdHpDeEnxGQxTpM7PYvH0z9lhkDv0+3lop8jgOiFYOK4lsSvnrziDh4sz/O+\n",
       "KD5No+Bu52LkHNJKy2aK8jpz9eQ0gLD+tV5TxNKDADXr/N6JgAAJHpLvswEk7VQmt3pPmYAAJHFu\n",
       "LBoSzJ8pMM9VrzUPnZnZ3NxD0bNqJHI3ObeHbtB8TKduhaCxhqn0FPOg2/pnai2UYMqLNiTrQA/V\n",
       "Wsw8lDSmklmviAsQIVO2bGr5Qjp4E/KFj6E4xfyq+XLD50Dy1nfDmkzz0alrKdsukhIx0WeWMx+T\n",
       "Y792GeTdysUZimJjkUbDMmjDDJGOzN+cAPHBsw8QCmMgGLneqn0Vo1yfKjUw20QqSlH90ydf0E6k\n",
       "vPDW1Pby7+BX5kjUNwAx2HahMhortm/RCcGIpA9HvXOhqrKVZGN8L4fIKxdFrZwBv9sLpiNPn6mv\n",
       "6dCRIHcDKUFzYgACe8UfQAvy+54CtMSY/LTsd/D59Oi0CvXPFx5hAgKJ61OZgUb358HtJc+Uxq/S\n",
       "jOFhxB6rrHkBAn2E9Qqza6jp7JjQcMQ2xsOrmuPadljxRgaKOWfV8jtUh7FkE46CoT3idYbiYB9X\n",
       "FpgHg9sCMRJvvFmu/c+ibghe0rFNK7Xl3YWXeJwYBtdjC0NdBq2xwQcTyG0le+CqmSETFoBTaybn\n",
       "n+LZJyEmwCjI/R5t/3Uj2L37ShHi6PHGt7m1Tpec/gFV4OLaZmmVTI6BJ0ezM4X+FrqNGBPDCO9f\n",
       "tYy6boeM4S1/L1Pg8t7Bu4YvzcYD2FFKO9gZegOhfrt+KTXWEHKgj2LUMnEWstWmdSqMbJ2G4vaM\n",
       "nTyWnRAPe73Dz8Htxtu27JI5Nzlq0Nwyyaen8Mj2tzZ8wAgONHAYt01A5KrR6hG0aDY+g7FSTlKd\n",
       "pxSh5MnAG3im773DFVq2zH1wdAqlXUbi7RgPG8tL4UJ2Gwwzoh7/BaCEZ0tOYEEMSz7ziIa0lcgU\n",
       "AWjR7iEIKdfIlw10qwswdE0dvwKRTyJcn3IxrZgACZjPJsweKFajwjeStErFI+M6wztEOTvpOmX4\n",
       "pEhYpB9Qosdk9nAaP17u8goMjjo0JczRtLpc6Fl6vxAdAapQx0pmwsdkOMenPzbla5eMgYByxOJx\n",
       "TDq5zx113Bw6fMDncH17n1sxe5RL2jH134tqa1OHfXro8FZXFQ2rp6q17gHFRnGi3eWE/SMw0pXD\n",
       "+MnAlehagtBwkkpPdxfyJS8NeopMvSeYRIMA+U+yxEJJNAcBYGPd4IKrqDvJUtvwkB2YjLhKk/HJ\n",
       "eex1ycjxFx6ppeOPZp3Yqbu/yEz86e8KFjhtfjIly+KmbZrNoR1IMhEdHIT1bLkxHJxc8js5x5/x\n",
       "BflsOgzwkGzl0oowhPqPpjrgSxhVv3AxoBTPN8noy1zs5Gj5w/HpxTImdDWV2dYYLbUrke43mIZC\n",
       "XrudTTPplSesSWopdR20NChNL94ZV19dzB0NzaQ53GnC77ArWuOsh8jiV5k/JF8gYm8E8WxYuI/E\n",
       "29i4IOS6d4k9mTRviMi47afkAUBIiS6vHA5+VW3CIG/Dm+97ievxbufFvdtW6eoc3a5VDWX4mbIl\n",
       "+ZmNlZAhP+4yGSmFNTSaUqQAkbIqCATZYepeN1X/IXXM/72rSzO4K7DSMJaVizdXJuS/v1Oan2fA\n",
       "qGPqeSHe1c5QXqTi3lcNSrauADTQc0cMge6229x/I5kEzzcY6Vt703SPy709riFJXbpBL0Rw+qAf\n",
       "ArsW+mZRzYSTCProeS8kGM7pYzuBJGkkTpHPJsREIkb+/wcwRDxpJwE4YOSVlj1CPIqrSaN9GWoJ\n",
       "PcGkOwtYkSSlafgkrkWBA4EFrFajCnGpUh/qOa35LooLvwotUzVdA8/+o51SM4vcmF8W1xbNfERU\n",
       "fdKcFt84/Hm2i0/yDe+445fNvgYCstgq8H3v7wBsrGqoKUWLBCSCDDtulSqNaqdKc/1UMW56AAMG\n",
       "1ZpFSBYiXtUZP1J955IUj76xC86ZeaodCa+ZTgBYYznO6rckZ9Zab+OsMSxxjxus4SvD6m/aoyYx\n",
       "M2FciiLBwtmkrQK7VeG6vzJZpVVIAABEsez/bJlhqajdVdmv/+zUAemv/43DH9ZZ9A0d2K8DYMFp\n",
       "eOf3KgBjE3CufsTYWE2/nLtWrLpju+uRah0ifs2Q1/zxT5J7FFwSfB54Ho2LFG7OJkrT9vHOsEQv\n",
       "HFeuiaYN5rAsm1e3A5JebPyUYdaGe1LN6lSRgR2ZCmYrn8kaDv6dxmdgOhv5gaeA3qR/oMBw/ElH\n",
       "auXuIkMA2i/xKCcCdCCr8Dipc+wBfsES41T7es+PX2SGqpJqoWMXaR0bHL74Ou1e1K9bSkur9dJt\n",
       "tZLvHv//HVzU/EMH8eQSJ9Z3sHbc//snKFJK1CMPUmxC74wL57FM8H4poTRphSn80KY9UbU7Q3VP\n",
       "3Md0d6Ycp/cy4RkElbUZpYOVM/g3hc8jyRLa7c2wTZt9ZLfYecpm7RwO/R46hCkKugAqboqnTIY1\n",
       "VwFOw5ZZ37VKQ5ghUTvJ+tFllLRe+XTpzmYfuJbYfMYGJjCPfwrWB86rW2uvglPc5f7ETqncsfxQ\n",
       "301VC0+5tQa75rJ6cnOU22AQdsVGUApfcQ3mNzeaJ+QgS/wWiZoG/6kL1TKL7j4CKyNbINnVWX5W\n",
       "9tsEBEj5E/G6RvovD3T+UGRQOZPjESGUevMrAi4V7Di8CDKK8mL+ysHZs7NU03NN+6DmUnXPNtZp\n",
       "516vh6eYicMT7qrYt/sUMzAU5P4AH4fFocuV4Vw1udSHi4fIEjSeWKItSTN5uuX5GxFcUTSgliRa\n",
       "R1S5W1uUSLP+Wzl0mqcCG0/g1BDt2h4vc0Kg4Duf9ByZrPvNNzHh7a86QtyLWrlIjTefR4IIA8Zw\n",
       "rzl73ycIEafxTfbf6zOFEhT+IPuDPVVvKLSAxvFevtPFRFa+zh9HVmt2d+Pd+Ofb0nF7LMb649bD\n",
       "pQot0ZVV06ENp+KVhnEYDU6Zqj1jrXMMYgs9s/LKoWNMhIramtLnMMfsXBEoQETXArH/Olt9dnxN\n",
       "cVlDzE+21TLBbaxg+BFQQ5a7ityCEJ+HE8FbzzUvL6p1ubpknXqg/ZMbWu6lRqyQTyTg10yI3j8A\n",
       "0/3xZj4CfYh3lFmwk5cbwdw0Sert2W6+UEg2TtZ6otSptMYK2RuFRfFfOG4igxaDBkx9wTzHX2b5\n",
       "eTvjz7aRJWgXaAsFUC268YKvzTSZ1i5fvfAgCfOFnT89ZRJvuJik8NB4e/jmyIDeKu0gZ4i7kblc\n",
       "ZzBxnSosunKVS/A1FKb0Sju/0fxCW+aQ6MdjhJuuZV/6yL813xuvTA/DqqOMNjzwmUv2Sj0KW6cX\n",
       "XqWweXFIgjF8OnFZplF+VV/fujihDmVMDWyzoVi40VT06t5Hjj2FxjMXk5n+5EYPAawUsiSGIa8H\n",
       "7ExlFW7fniLmMthvY7bqKYWUN6WgxqBDeRyCQTCTdyrA/Pnil9uAUiFGPnraCU5NQjQuARsmDsZd\n",
       "bKUsqHnPRex7Mk++MAWux8EScnfQyj1QlTckf+SEZPaizv5BCtQcTVZvFUC/nFCYiTffjiyMSSYk\n",
       "RIiqe37VWSj+6aXlAmRvY5c5E0/aF15vuJYdcDl/XcI/STv9IsNnl8IPt26zFaCs2sJgTqJpyjm7\n",
       "LuTqBLEOvzDuQihm65e+o70Or6r94B+HSJzYxz6dgXu2kEtStPVtC2h32zdEd0zQAAKGAAAEpEGe\n",
       "QniC3wAAAwBBFpneOSx12oeUAAbuf1UotA9yacKXXtSnQpLqO5o7BfxQ6TuOe4w1ZnAo9ONk6GtM\n",
       "60jJ4wQv0hssCifn2DUpJE8SnwS0ulh4JAoTt9tjw/W02vE/PBKwDoeUElM1fcIuT2DvZtPVm2uG\n",
       "6EdvqF38oLcRfoIW2X7cnbUs8MG7NSfZoWqtvdEZEB26UI3EGfT6zQD9Ay32xXAEvjT2fmQsIIdp\n",
       "9OAC4KHCnl6XKFnY1E7KL/0WFXstKW2q1AoeYibUdkvIV/Hd6rMpsLa4h/ojB8kOtkTKFypAChPz\n",
       "5lAim8d8TDNuOIu+0XT+fmeKPRvoJKSOsOGVLcqLjFMVTp/DBBcC/44BGapC6vjUpsGnLAhpJtGI\n",
       "V+4eg31Q4YCR3ToAQXjgwXqW9tUbHoB4Jd5D7Llff5AhoinMbek8siK8YUbq+Qy4LuJA9J1wd47N\n",
       "Ljsyzjl5TK2zWIItix733rrvYbD1ZvRDFHxm0oKLj+ec+jnBFLztpkjLwfQ3hu9w9hYkBUeFgYVQ\n",
       "TceuHjlCwHsb6bHjFbmcocnPnkczxWhRx4jd+bMrk05bInlPRcsX0LzFqLjJ/Bs4MHfpndHN+8jx\n",
       "+doZ6BESL0cbvsLTOEXZEMuBlRysZ63x/INT5GGvKME1fT+7cT52Q5c/iYXlbPiq2fyUe+l2zVys\n",
       "F8jF3igXeWvjIuRLO3F8D2PheUX2X9yz+LN/lxWnzjzeba2BQCIGKRGPnvLq5teUsSpZwwDi2Fa5\n",
       "FTHT6VKdKhUIwo4z0jmITPNsgSLYTDPySk1wMrBElRAwQAj9qyFv5IWbKWExynWSDQ7dRbj2CQQ+\n",
       "fdgAs0dynvVU5LLn+u+CrXnUnTO6mLNB52yt9f6k/iwTMmR2yKaknUgWTWPicVXSspgIZ5ZXv/6V\n",
       "VebJ5sjXxODIe6MajfZd3G7tLjN2mi4iPMeFpXviP3xBCt+a667V+unmq6ySOYOHoPqGVRduwgWf\n",
       "c02pvFBMLNWKaWMCHu+WZtYiLeto5fHUXIBD3wJHti4EXaA2JcwuFwTdXkWSsvz6Rqw0r9nMmlPN\n",
       "DPZ7YB3KF17Cv190e6KfVksIYpeHD4ixadYk2rV9PzlAM442rAAAAwAAAwAf4JPeSIEoeP4reNaP\n",
       "yKCwfooqLyuMxtHgrAxk62Pxc/RMEE3krqpjkaeyF/0vrpmddXDw+O7MF8CKUHdN0XOy0g/8JwHX\n",
       "+3EOd90gSg3WsmSEOb2DbE9cK8L6hsEMVdusjl3I9kaf3SMq6kfrih1h6udCHUp/vJbGXrCceAh4\n",
       "0vKmb2YzZTIbSoZGPkXi1EXCl3Un+mOyUsqINc+1SJdHBNP4wRBERBwy20nodwqs6kb5tUqgSPE/\n",
       "sClHejk2fMwhCiENchxs0oEZADJvxPUEi0q3kKsb6S261Lwsn4vCK/Qdl8UAiqb8elDNi6uq3BfR\n",
       "vyr/OUs/mKc7B1132V0equX4mpoeW2s+bzApS4kXnS0gD8MCLhRZN4oUOnjlD3sCXIEJ9KCjvMU4\n",
       "zZJpwYjXuZJv9uSAPaAX0WfufcSbrA2DhJP7vSIIMffSp8zW4pwwRmA1QAAWkQAABA0BnmF0QV8A\n",
       "AAMAXLvbso2gBKssqXRhkXK7Mnf4tnI+HQCUlPXQZbkOna2ZpMqITGKMvhlLNE8NrX0Wfd4cgEYM\n",
       "JtADC5O79h+cWNwlv4a2B23qn/eGm00v15tUykm9Ip/vPNmF1Y8Mq2vIzj3y7Guf9R4gwA+onnGS\n",
       "8Spsf9bUMAADca8kjY3yjRUsDKwWJv6XfDMQoNBrBAStGCCAIiAvg9JWKpXBeJ2ITZ6gAACQiLCH\n",
       "MW85c03/VNI+ypItM8ArmhS6S852pXb0358mzbankRWcnLA2KfHjZc0TLi9WdmidrdYFHuR21HIX\n",
       "90ANI8K42wGSL0Lrl8T73Db18VbYomHOza4gasMhmiuKvntSNu1GdqTCmKdvwLGAGLyUL3iqZJgD\n",
       "oaRDORg2S0E6RuFqxXkhSVmAYLoA3hvX+ROlXey7MWfkf7VJBBl2fwTKcUj7b+WLdD99kMNduALW\n",
       "QcQLzDLSkjEFtEFgCceC4VGqypwWniEJ7wyZWu+igegLa/p2RhSZ9go14mWcIBqt0pj6BqUmMG80\n",
       "Y/wKO8pKaLjVz8G4TTz4slI5tju8eXRkIoRYJ9es5rXgINK7OGso2ePiEoe7meNshYkhkeziXO5a\n",
       "k+7HGoTYhoe2CFgAiODXRtuVTcnAnXJ02efNm8c0SuQkjGIjKZeGvbSE7pmQC5OttYm2wSsVdZmd\n",
       "nwY0Np2S6kfl6uNykZ9iqSbE0Dow4H7GoaUxYwLmAf2NhD/WkBo+EIwG5iM66K7gXf6bm0tTq62e\n",
       "Nf4sd+JcKwVJ/l7V/aL8vbc+VhdKPxRO7JVCcgM9RipxvrHX9PVnGlc0R3UKzNyhdf3/lc21eAfP\n",
       "2wB5wpgNh0th69FuQg8Z83/CNSCBwa9i/cHcnklnbp3t8F8pALcAXu5x5QAQKR2TFGcu3dfqSM69\n",
       "+kcBP4IAvYf0/9KYVXLNXNw/JJYN/EBTK/COnOA4Q73K9uRYPI1twtpcWuOYnyIAzT19RHxZ/OZ7\n",
       "E7hB5XWuI2m7ajrJwVZGd9Cxv1I2bKHHaaCzfB02pIjmJwwB/oGpGQSQ0+meS+qouRCSsSfb5SJo\n",
       "hKFI/ES7tWE0/bbzbbx466VvgySGFHBXooABr1E/M2oEZRT3/SIexMlFCaqvCx9D2AZWfwntt86A\n",
       "rDo5Qyn8wnTZYU2YLnot4HKx+xb1KHxZ8idxt8uh/IkgvK4QPe5q58AA0rnlZKNiccijax+NSt19\n",
       "4nue9YZHlcAw62WRoHDZj7uxCckk4KczZcyWy9bftE6rBpEIdO0qPWR+OZYByfqOU2472kF3HXWj\n",
       "oaM4pXn+gH1Iyhv21kmCJqNh7iRVNAdUbK9app6fvvV9NVPn6ifTCHjDbZybIXgzGUBTRvASfDbO\n",
       "AAAVMAAAAbgBnmNqQV8AAAMAZq2jFmiX4PADcCUObwnPiDQ8tzNwkUS0+fB1bJURXyP4EjfONtBc\n",
       "LvPbaXWI1/3OINpPz4j+whDR+vVKfFcXR6+xtAuUoqfgAc+PsZDeOsa57I9+1Db+Xn2MenBUttkx\n",
       "07gGPxaYeU7INOS5RrpYz+7fJlxvdjByxsIDZylRgB0pH0W8BC3AychGR07GH/Qvfy/FGIILnZeX\n",
       "+xaMVkwASAV2rD5p5LBhvqZxufwh3SjojVdHOYvLOBOG07uO6zhIf37ZRSMxRoi5IL1Bsye7kDYC\n",
       "6GrchpG+sdK+mv5dtr+1PTfxC/+et29Ob0cu0oI/4MFzIaReCiEEwiTILCEycFkftxVxs8PJRUGV\n",
       "bGrRKcy6Jc9vTiNgzcEQTNETn4GK6o+ePfa4ll2ZtJFSanoDq5sqAF9oR4iDbrevIV7kb3JD1VFd\n",
       "KHvbqfY7MKXHQ0MYG71VOS/qtjDaZ5WjIPvwa+4qxOubCnNH3BSSqicDhimfkaZnZgWSP32Stg4o\n",
       "IhFrfL/ILgtm3rFH4d/1Xn4dv7i6tEkPBPn2LJRDImCDx8DsDYgW/oHarnBQAADAgQAAB1JBmmhJ\n",
       "qEFomUwIL//+2qZYAACM/y2GGQRVgBw5+eU+s377vXxiVXMLzGDZzRHvqfSKareSXfA9uILwlM1Z\n",
       "8CVJu6jfxsj4YU6QO08+cL3YcbMcbNKcCSWbgG7Y/USSbfGgdBXQjsdbB7SD4cKd8sRiJnRCvRYH\n",
       "cUA+o5rR7M1KZE0zLMIgVnegI04XSiPFwZm/Q+/OzH4cmyxinNcnZgxcA+AmW3zjLPn0KdjTCoGa\n",
       "ktp/ucxqF77I+knJJ/htoWBy1nl5NtTmgxyXmVsKg7oqxDCVmjm4Jy8PkbNABUolqbTJQ8EHFiGu\n",
       "PKStFz9pR30d2nStfjpS/n+EaJM8D9/c4KcRiqSmnM33lGN90pr/1CCVyoTLk2cvI2J4olsbfXzR\n",
       "J7DOF8Ovkbq8OJzDlc0MpMqv+fEObWcnVOhDiXAY+h7lcX647d8E4OJ90AgaGOHQiSLclVT8p/iF\n",
       "6I4UzvJ7SQ4RPMyrULhB02uwSlwkPJU90GOwGH/mN3CmyCzREQ9I5Qt4LUYTx/6wBtoW7EQDUXhE\n",
       "+bXLfDMgIcFKyLy/x0TaKNn5dnmJyZVqdjv0mVztUlMJp58sZHd0Yr3qPXXHscKsVR49Swc9syGo\n",
       "1YFhv1b88jKgON7+zy7K/V35oniSfL1CkHttiO1rS7Po7ihR4QwPIqqbj1EhJmR6wvKRkiJm/rSj\n",
       "j8CJlpphSNUxVgVk+fY6lRYUpVypV1XhfNlLFOExZwfQ9D5tDv98kLlOipdn+KPC09fI+4cKJtaE\n",
       "c+QjWKIKYMbAKNIyJQGWcTOgEgAF4wN2ri0LvzzpExsL4aMlJTug+h0LWkG17t1KqUAFP98qo9RF\n",
       "rFbZkj31h9DdjenGuOB7iw7+iaB0rZbDpqrfy20JwDsOFq/fub8Urxuhm74PTTeNXHGvGLwObBEi\n",
       "RKyC8ufMt8dazS1eaRbK+RT/aVjDVxnm7E5zacETzyFt4JECy526nz6PqVBhUszMoRIRVdff64ox\n",
       "eYYzZVz4EcSRtWRDR1CZ8YKGntDLzm9tltIEAwB8KCBm6iMU/iuMyZTlRs4vPn4h41aIQ1bC3sT7\n",
       "1Y5oqyUDw9TxREHaj7Chq1/nvShwlvtAADg3gGylQEKv7OoPOqx0t750JnG6KcTGZSGk1yclkYWG\n",
       "CSmsaofU/+qMJLWUSf2pUjgTG5M2WrcItXHNMOtY6tmOyKVDOospKdMeRs0mKJbwqfO+69KsQGBI\n",
       "GfwvCx/kbwgf/35UgsHZow/8yjR7FigXzDiP5T1QzLoRML9RTai+UEhZgNhefpH3ZK2bvQVVtrcb\n",
       "JAZISFrEFiSH7QUGNg6KFYecclhSGUb6o82/m3IKguIIARDHW1uLZmIeZfpa/J8JpqvDFWXuMD6V\n",
       "UyD6Z3eq7+9wJUkmsHlQS9ngqHa/LFlXdxTC1npGhdLBV3wGxiou+nob1hw+1nkqaQVBDuFEDG5K\n",
       "DNsq8yYNqmaW6nOTZEzwRA6pDpp6KAAA2vr/zehYwOkIETBxPjqaBqwnn+GCVXmqM04WLhMsqxSa\n",
       "Hd/sdLAF0p5PxMkeDubP+8QZ7pylqW+A+QK+QIMlAl7vmlTCcKEtF1twbmFtzqgxK8nt0hx05Mg9\n",
       "kPNiF7zH5DirWVErfHj0UelFFPfuCv1x9MwpIZZcHVx8oITxB5N+qfego3lT+YgZnU5AM3YURuLs\n",
       "Rg9xL2HDN9CBYIOjakOsAALDGMX/M/eVE4w4K0MPbhYfP6zRcJnlP/3RoewS5Do7fMX9kfyLIN2R\n",
       "AOwiZGvZuFU24MLbmzmCXonB9aFBCX79wyVg/vEYP1l0l75vsm7JhggOqnaa0QlwZsZhUMjNszGj\n",
       "vPScyIeMSIM7+mAAxllRyPaITXpJ/xllEhgv59WRDd35o4ty4aNXn0wV0Y+IkEF81g3W26rYhvOS\n",
       "BIGfRcxTVFnN2iiaHmTicZsDggPQEODg+8mDhdC9Uk03wC7K0MKyfPplt508EaNcvfqQt0RIyHVB\n",
       "/415roavx0Ns2wNVjFS8t75rFvyeTGC5yF23WGPO2TaMNB4Rvyl5+Jtrc+AfKXHzQL+huPVZp0f/\n",
       "fEbAO8L4R+yImwLpNBhGYZ5EKoqVeRf9NVJnqVr2H3Q1i2UD2szxdFExsyBxiRjVKL8HvThY050P\n",
       "2kwPCuFaL0x6yVADywISOKV5Wqs6csPG6E7PNwPzdEW55aodRIEZbMvY0FljSxdUdClMdzXaEECA\n",
       "1zB1J0q4afUWd6cTNLDRmaWitLa0zqlKCCPIbqOm/ZGpHuDxtb5yeyY0B6f1UVjRVltdariUOLRz\n",
       "RQ3wryQmnIR890lnuCsRzndXOod3uQs5wboPk8HHZNrmGW5HjCVb5or3kxRWJss9gZL8nIhO1UJq\n",
       "6WtFKH2g06o2YpPpdZIHCDOqIJ5txj/eX8zdTr9EmjQ2Fth4ezPwUyYqfS5VpaNh7bzhAOKNr54U\n",
       "mnIbdNVBLMgnfT8tMTn4w3JRn0mw8xUUUlXqSShgT59BNwUMcdUK7OeDAAAS8QAAAcZBnoZFESwW\n",
       "/wAAAwBBFhJT9EJJNcgokkBACJZ8kR7DOrr3yKvdzEhavjqVGG3dQ0hSXEec2pBfhvR91+WZDBYC\n",
       "q9EPninwmEM946LOFIkK4UqnhgvTuKFZtUz99JmZLIBIVyr0Oi/AdrZHsmrnMbCsPXHwc+g3T8PJ\n",
       "ynzEyKDqQJGZEVmQGXSRt2BE/v+3CHbDj2iWwoAtExAmbqs0rtXIeep+kt+ZFUuf6lQA8On7iDP6\n",
       "GnkhXk8tyvd3JUaPPLBxptjx1HnCPxkYiCLT7n7vnyrQEMvtFkd+iMHyQ2ngv2mjRnnjx38z6TGY\n",
       "d5gY3K2dOFCj1ChRsK9vnaBy1QDApSgGgyYn4pt/rnXuoBJxdODuUYEP9d1tDHBHyDS7U7XVMaci\n",
       "7D+GWhUm48UAPklptBkgIBH8v7qg0nFoQOL78iwXklNzAHIMLcnT9WXkaV9WOBMOZAhtEqFWpDGE\n",
       "sBRwQ8OvKZCP3pCridxAyXZEIzESObDQJGuxJgdlegK1oe9HLCI8SrMhef7XwikQsB6uDVB45v7l\n",
       "HMtIGwjpqiyhJwI7yV99PpQEfx4siNcD56OT7yCcadc1Gj19DXxo3XkYL2AAANSBAAABsgGepXRB\n",
       "XwAAAwBmqlxM8fahQAJzX1PKVyYBtjd9L2vDpnzejOnOwSurQw6kkwbFNceq6eg8OTqLGkRKrnGr\n",
       "/ne7exMB2L5qaemO8HSGVLRxwcVYcMdaitdsULc1iGxoWMuKYaqlwhTQTLOZqV7luyzHLU5ffovi\n",
       "R8aikPROkb6ohS5DFmRgQgbQTxc+lzcdRj7kRLv7+SeOFXeFisq5ml0P8l1UlhH4EGDfoIbf6mbM\n",
       "mujArmTZupC3QuGf7DMkwQwRmruyc8D0x26mq+acVboIlfRTcZ0QlIb+Mz121BB7lJxYAKonjXkL\n",
       "8GhM4gN6sh2/6a/l23BHWovyDj7FAGQ/psxTeq3e+0gjJfOdwMDRYMXkK+7wIATwIJ41V3NLhd+h\n",
       "TkWaA+W3VZfWtlh9MBruQrmPaTCYCXx4AJ82RLnN5aDJdJkV9d8hjASkQSK6SD+eNRt/e3H+xxQ6\n",
       "Fsw+oVSwOa+33Dzv6g/jydGpUJuJoGveQxs5klTbEz4iMZygoRv5ex88xWGJPAZuI2oiZLNPFprI\n",
       "nh6B6NDZ7PpjX0nBY6sd+MgxrnCu3ntsvsCAAAf5AAABdAGep2pBXwAAAwBmraMRI9KQALlki8tQ\n",
       "eeRdpFB+2yNfo9PrRpP2WYHTHnqlUWVPTqUg8m16WduWtdzdPAcPpk5hPyGsHIM4IC8B+R+jqkEl\n",
       "S3jiAkaSUOVhNofnlGngxXuklw33gEFwhIyrlIiCHEf9OlaLxjeq8cT48XM980nC1TtAwDVYaDCw\n",
       "d+EzbFxAeUDu65RLL0fIS3YdJhbCWLW7XsPS03Ayce+as0BLMLSD/sqWs+6631ZzfoVesq9mKttH\n",
       "td6L5nqFWrBLxglVoO1a8JhqbL8SKf09SCNFJHiQ7kSlsFLVkfofr0U5RB4gHDFW1e/XmQa0x0h/\n",
       "i0/mUPpXqv1rhT89Hx2nC0Rhg8a2OGq4x3v3WDXDhztUN+b9oAwy88lTu9P6Ubw6dMWNelLML8W3\n",
       "ZbKEoUvBzXCFwTH3JXHa/RiylwT9AslwU/j6ARst90XhAL2Wj70QHeaJ2dkfzVmr9zl4VaTnwf3Q\n",
       "x2K8gAALKAAAAodBmqpJqEFsmUwUTBX//talUAAAnDif4JT5O78/Dp1D/6RbUmqgBCLD9HrDD4AM\n",
       "hqpuUYXKdVM32M6bjVjCCNU+zCH5buImMueZdH0GdCWNbD9vGeZdZ/pRvgyPdXALVFQlwwcFFXsq\n",
       "Wl9ZhCxlvi9UV8/DnADmwTuUH0yiNAPULkVwh22R4zKmjiSg3EofejVCevzWy38NGWX+HaVhunkV\n",
       "xm8EN9TYO0U2Qm6h/RiVNuJn9zRAOSs4nggaeFg4lyLSpKH/Cz7xoJl9iI0cSedyo3EvBaOgY8yx\n",
       "RWI5HHRFocxGzuyPUeRGzwBtO45uL1a25Vu4Q/CQJqNELyOIYG0uZl/2reTfbrA+VTpgJGuSHRM9\n",
       "3ibePKvaiAste1Jz9CTG2e6+R+yVeLFbplh+7TDDWd1adR8D3uAfRExLxw31bgWVcT2xbtgJuqFn\n",
       "n95Kr9cDFILs4MyilvMr5aeM/RBz78kwc313Mj9OkDUmvBZArNkG9i9z8wkZErKeeawodrgbIZlC\n",
       "eAAcm9zgiAm3+U10JAYPvrfVUlP2D/jopZMBohQs0zuCxkPKOyR27gT8ACO82tF1CvpSr2yXyMnU\n",
       "Dn/8UvuMKEmO98AXica8YDceOnYPWlCbQlzbRXRqrglDu6vPI+R6kLT0CQdkAAlTh7+63bHTgQbg\n",
       "eX7eZ24niejV6uBcz05krFdYOoonLq72ua7Ubry4mIKClisrHde4XPyjlUIaYSpdLQZYzKC/o+dF\n",
       "acFs1m6STMfFc76rRBFERnLvEWjA7s+y+HdxIB6hJyF9gSZGKTGXEsSEiWYU+JCGmS1VShYqd2tC\n",
       "tfSm3U/W2DE5k86yfXXt4O6GDHKNWoQIwov4AADpgAAAAX0BnslqQV8AAAMAaS2iozkJDQpjNACW\n",
       "mkZlqy8Zy3nASHRfQFg3tiOopHfMDz3BU6wQ0dCbBhmRek1gkEiKKHyeLDmlJhBYe7sypVaxOY3z\n",
       "47e1FP4nm/yLUOs8DHtqdDsXiM3YC1CBlYGLZ7Fw4yL7kAP8tVkFYnsemuApV4AA5ql6FkIp/g9M\n",
       "Fx6Iax13dbrkfUyPSdvqeB+mT19/xA8sgY4qp/8TY5vDPSNbpKSn+L89dR/77z992SfZHb9m85gP\n",
       "+8zQpzGF8IjCWwMncP621HtYHZrm2s//eBhxw9PsbnyDYpmom+F8g0cuvvl1MOOgva/kp/y8TJes\n",
       "ReKFaW6UbiLtrSIKmcg09gmnAe2LC3zr6NOx8qkMX+T0DxKsVJn49Tdm4WXfqYhhhKggtzeUO8/n\n",
       "gb/nY6teRsBkVSrqNlS9HqtyMcfq32sj1b10RrMYRV3QO3T0BbWc6LOxGHuM8v9Sb+uxfmiodZUZ\n",
       "+eolD9RTdQ2VdoE/aAAAK+EAAAO3bW9vdgAAAGxtdmhkAAAAAAAAAAAAAAAAAAAD6AAAKvgAAQAA\n",
       "AQAAAAAAAAAAAAAAAAEAAAAAAAAAAAAAAAAAAAABAAAAAAAAAAAAAAAAAABAAAAAAAAAAAAAAAAA\n",
       "AAAAAAAAAAAAAAAAAAAAAAAAAgAAAuJ0cmFrAAAAXHRraGQAAAADAAAAAAAAAAAAAAABAAAAAAAA\n",
       "KvgAAAAAAAAAAAAAAAAAAAAAAAEAAAAAAAAAAAAAAAAAAAABAAAAAAAAAAAAAAAAAABAAAAAA+gA\n",
       "AAPoAAAAAAAkZWR0cwAAABxlbHN0AAAAAAAAAAEAACr4AACAAAABAAAAAAJabWRpYQAAACBtZGhk\n",
       "AAAAAAAAAAAAAAAAAABAAAACwABVxAAAAAAALWhkbHIAAAAAAAAAAHZpZGUAAAAAAAAAAAAAAABW\n",
       "aWRlb0hhbmRsZXIAAAACBW1pbmYAAAAUdm1oZAAAAAEAAAAAAAAAAAAAACRkaW5mAAAAHGRyZWYA\n",
       "AAAAAAAAAQAAAAx1cmwgAAAAAQAAAcVzdGJsAAAAuXN0c2QAAAAAAAAAAQAAAKlhdmMxAAAAAAAA\n",
       "AAEAAAAAAAAAAAAAAAAAAAAAA+gD6ABIAAAASAAAAAAAAAABAAAAAAAAAAAAAAAAAAAAAAAAAAAA\n",
       "AAAAAAAAAAAAAAAAGP//AAAAN2F2Y0MBZAAg/+EAGmdkACCs2UD8H/llhAAAAwAEAAADAAg8YMZY\n",
       "AQAGaOvjyyLA/fj4AAAAABx1dWlka2hA8l8kT8W6OaUbzwMj8wAAAAAAAAAYc3R0cwAAAAAAAAAB\n",
       "AAAACwAAQAAAAAAUc3RzcwAAAAAAAAABAAAAAQAAAGhjdHRzAAAAAAAAAAsAAAABAACAAAAAAAEA\n",
       "AUAAAAAAAQAAgAAAAAABAAAAAAAAAAEAAEAAAAAAAQABQAAAAAABAACAAAAAAAEAAAAAAAAAAQAA\n",
       "QAAAAAABAADAAAAAAAEAAEAAAAAAHHN0c2MAAAAAAAAAAQAAAAEAAAALAAAAAQAAAEBzdHN6AAAA\n",
       "AAAAAAAAAAALAAAf7QAADi0AAASoAAAEEQAAAbwAAAdWAAABygAAAbYAAAF4AAACiwAAAYEAAAAU\n",
       "c3RjbwAAAAAAAAABAAAAMAAAAGF1ZHRhAAAAWW1ldGEAAAAAAAAAIWhkbHIAAAAAAAAAAG1kaXJh\n",
       "cHBsAAAAAAAAAAAAAAAALGlsc3QAAAAkqXRvbwAAABxkYXRhAAAAAQAAAABMYXZmNjEuNy4xMDA=\n",
       "\">\n",
       "  Your browser does not support the video tag.\n",
       "</video>"
      ]
     },
     "execution_count": 25,
     "metadata": {},
     "output_type": "execute_result"
    }
   ],
   "execution_count": 25
  },
  {
   "cell_type": "code",
   "execution_count": null,
   "metadata": {
    "id": "EWgLWCoW6eMJ"
   },
   "outputs": [],
   "source": []
  }
 ],
 "metadata": {
  "kernelspec": {
   "display_name": "Python 3 (ipykernel)",
   "language": "python",
   "name": "python3"
  },
  "language_info": {
   "codemirror_mode": {
    "name": "ipython",
    "version": 3
   },
   "file_extension": ".py",
   "mimetype": "text/x-python",
   "name": "python",
   "nbconvert_exporter": "python",
   "pygments_lexer": "ipython3",
   "version": "3.7.5"
  },
  "colab": {
   "provenance": []
  }
 },
 "nbformat": 4,
 "nbformat_minor": 0
}
